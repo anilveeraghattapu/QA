{
 "cells": [
  {
   "cell_type": "code",
   "execution_count": 186,
   "id": "ee378b2c-20c8-48bd-9d47-e41c42dfeb47",
   "metadata": {},
   "outputs": [
    {
     "name": "stdout",
     "output_type": "stream",
     "text": [
      "Process the EU sustainable finance taxonomy PDF file and extract and clean all the paragraphs in the document\n"
     ]
    }
   ],
   "source": [
    "objective = 'Process the EU sustainable finance taxonomy PDF file and extract and clean all the paragraphs in the document'\n",
    "print(objective)"
   ]
  },
  {
   "cell_type": "code",
   "execution_count": 188,
   "id": "9c989163-1808-47c3-bd55-94f7146180c1",
   "metadata": {},
   "outputs": [],
   "source": [
    "pdf_path = r'https://lp-prod-resources.s3.us-west-2.amazonaws.com/214/200309-sustainable-finance-teg-final-report-taxonomy-annexes_en.pdf'"
   ]
  },
  {
   "cell_type": "code",
   "execution_count": null,
   "id": "0e1b8321-deac-45de-b06d-0ff817a58049",
   "metadata": {},
   "outputs": [],
   "source": [
    "!pip install textract"
   ]
  },
  {
   "cell_type": "code",
   "execution_count": 190,
   "id": "87d05580-f825-4b77-a58e-f3d90050aab4",
   "metadata": {},
   "outputs": [],
   "source": [
    "import textract\n",
    "import requests\n",
    "import re\n",
    "import pandas as pd"
   ]
  },
  {
   "cell_type": "code",
   "execution_count": null,
   "id": "846c5320-6021-4bfe-8bf2-112347e88989",
   "metadata": {},
   "outputs": [],
   "source": [
    "response = requests.get(pdf_path)\n",
    "filename = \"taxonamy.pdf\"\n",
    "#filepath = os.path.join(\"PDFs\", filename)\n",
    "with open(filename, \"wb\") as f:\n",
    "    f.write(response.content)"
   ]
  },
  {
   "cell_type": "code",
   "execution_count": 192,
   "id": "92e46891-4d98-4f3a-8d88-2308c22cddc8",
   "metadata": {},
   "outputs": [],
   "source": [
    "text = textract.process(filename).decode('utf-8').strip()"
   ]
  },
  {
   "cell_type": "code",
   "execution_count": 194,
   "id": "2cfe3a4b-2f48-4860-b210-e0738257d7b1",
   "metadata": {},
   "outputs": [
    {
     "data": {
      "text/plain": [
       "1320993"
      ]
     },
     "execution_count": 194,
     "metadata": {},
     "output_type": "execute_result"
    }
   ],
   "source": [
    "len(text)"
   ]
  },
  {
   "cell_type": "code",
   "execution_count": 196,
   "id": "5eb517cf-a3a6-48b4-adf8-56bdc24dcb6c",
   "metadata": {},
   "outputs": [
    {
     "data": {
      "text/plain": [
       "'Updated methodology & Updated Technical Screening Criteria\\n- 1-\\n\\nMarch 2020\\n\\n\\x0cAbout this report\\nThis document includes an updated Part B: Methodology from the June 2019 report and an updated Part\\nF: F'"
      ]
     },
     "execution_count": 196,
     "metadata": {},
     "output_type": "execute_result"
    }
   ],
   "source": [
    "text[0:200]"
   ]
  },
  {
   "cell_type": "code",
   "execution_count": 198,
   "id": "84351af3-264d-4f44-a9d2-72d158f225f4",
   "metadata": {},
   "outputs": [
    {
     "data": {
      "text/plain": [
       "'ull list of technical screening criteria. The other original sections from the June 2019 report can be\\nfound as labelled in the June 2019 report.\\nPART A\\n\\nExplanation of the Taxonomy approach. This sec'"
      ]
     },
     "execution_count": 198,
     "metadata": {},
     "output_type": "execute_result"
    }
   ],
   "source": [
    "text[200:400]"
   ]
  },
  {
   "cell_type": "code",
   "execution_count": 200,
   "id": "efde9bf8-d823-4333-b806-ea64f3a9d65a",
   "metadata": {},
   "outputs": [],
   "source": [
    "paragraphs = re.split(r'\\n', text)"
   ]
  },
  {
   "cell_type": "code",
   "execution_count": 202,
   "id": "64736e75-ce5b-4efb-b48f-bfc09cc9271c",
   "metadata": {},
   "outputs": [
    {
     "data": {
      "text/plain": [
       "34643"
      ]
     },
     "execution_count": 202,
     "metadata": {},
     "output_type": "execute_result"
    }
   ],
   "source": [
    "len(paragraphs)"
   ]
  },
  {
   "cell_type": "code",
   "execution_count": 204,
   "id": "4a3f138d-0c0b-4956-94e5-bf8712ddf2ad",
   "metadata": {},
   "outputs": [
    {
     "data": {
      "text/plain": [
       "['Updated methodology & Updated Technical Screening Criteria',\n",
       " '- 1-',\n",
       " '',\n",
       " 'March 2020',\n",
       " '']"
      ]
     },
     "execution_count": 204,
     "metadata": {},
     "output_type": "execute_result"
    }
   ],
   "source": [
    "paragraphs[0:5]"
   ]
  },
  {
   "cell_type": "code",
   "execution_count": 206,
   "id": "56aed5cf-14e6-4a23-86be-36c1371bafeb",
   "metadata": {},
   "outputs": [],
   "source": [
    "stripped = [x for x in paragraphs if x != '']"
   ]
  },
  {
   "cell_type": "code",
   "execution_count": 208,
   "id": "080c3a2c-175d-4ca3-9c9a-1a49e46b2602",
   "metadata": {},
   "outputs": [
    {
     "data": {
      "text/plain": [
       "25661"
      ]
     },
     "execution_count": 208,
     "metadata": {},
     "output_type": "execute_result"
    }
   ],
   "source": [
    "len(stripped)"
   ]
  },
  {
   "cell_type": "code",
   "execution_count": 210,
   "id": "acdd8f8c-b553-4a6f-b6bd-ee5325585710",
   "metadata": {},
   "outputs": [],
   "source": [
    "df_paragraphs = pd.DataFrame(stripped)"
   ]
  },
  {
   "cell_type": "code",
   "execution_count": 212,
   "id": "1270ed16-158b-4809-9eca-a7b974c6dcd3",
   "metadata": {},
   "outputs": [
    {
     "data": {
      "text/html": [
       "<div>\n",
       "<style scoped>\n",
       "    .dataframe tbody tr th:only-of-type {\n",
       "        vertical-align: middle;\n",
       "    }\n",
       "\n",
       "    .dataframe tbody tr th {\n",
       "        vertical-align: top;\n",
       "    }\n",
       "\n",
       "    .dataframe thead th {\n",
       "        text-align: right;\n",
       "    }\n",
       "</style>\n",
       "<table border=\"1\" class=\"dataframe\">\n",
       "  <thead>\n",
       "    <tr style=\"text-align: right;\">\n",
       "      <th></th>\n",
       "      <th>0</th>\n",
       "    </tr>\n",
       "  </thead>\n",
       "  <tbody>\n",
       "    <tr>\n",
       "      <th>0</th>\n",
       "      <td>Updated methodology &amp; Updated Technical Screen...</td>\n",
       "    </tr>\n",
       "    <tr>\n",
       "      <th>1</th>\n",
       "      <td>- 1-</td>\n",
       "    </tr>\n",
       "    <tr>\n",
       "      <th>2</th>\n",
       "      <td>March 2020</td>\n",
       "    </tr>\n",
       "    <tr>\n",
       "      <th>3</th>\n",
       "      <td>About this report</td>\n",
       "    </tr>\n",
       "    <tr>\n",
       "      <th>4</th>\n",
       "      <td>This document includes an updated Part B: Meth...</td>\n",
       "    </tr>\n",
       "  </tbody>\n",
       "</table>\n",
       "</div>"
      ],
      "text/plain": [
       "                                                   0\n",
       "0  Updated methodology & Updated Technical Screen...\n",
       "1                                               - 1-\n",
       "2                                         March 2020\n",
       "3                                 \n",
       "About this report\n",
       "4  This document includes an updated Part B: Meth..."
      ]
     },
     "execution_count": 212,
     "metadata": {},
     "output_type": "execute_result"
    }
   ],
   "source": [
    "df_paragraphs.head()"
   ]
  },
  {
   "cell_type": "code",
   "execution_count": 214,
   "id": "293ab4c6-e0a8-4214-9e25-b4201924eb00",
   "metadata": {},
   "outputs": [
    {
     "data": {
      "text/plain": [
       "(25661, 1)"
      ]
     },
     "execution_count": 214,
     "metadata": {},
     "output_type": "execute_result"
    }
   ],
   "source": [
    "df_paragraphs.shape"
   ]
  },
  {
   "cell_type": "code",
   "execution_count": null,
   "id": "cbc2f605-8593-4528-827d-cf9e98c5b43b",
   "metadata": {},
   "outputs": [],
   "source": []
  }
 ],
 "metadata": {
  "kernelspec": {
   "display_name": "anaconda-panel-2023.05-py310",
   "language": "python",
   "name": "conda-env-anaconda-panel-2023.05-py310-py"
  },
  "language_info": {
   "codemirror_mode": {
    "name": "ipython",
    "version": 3
   },
   "file_extension": ".py",
   "mimetype": "text/x-python",
   "name": "python",
   "nbconvert_exporter": "python",
   "pygments_lexer": "ipython3",
   "version": "3.11.4"
  }
 },
 "nbformat": 4,
 "nbformat_minor": 5
}
