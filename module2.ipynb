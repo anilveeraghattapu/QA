{
 "cells": [
  {
   "cell_type": "code",
   "execution_count": 186,
   "id": "ee378b2c-20c8-48bd-9d47-e41c42dfeb47",
   "metadata": {},
   "outputs": [
    {
     "name": "stdout",
     "output_type": "stream",
     "text": [
      "Process the EU sustainable finance taxonomy PDF file and extract and clean all the paragraphs in the document\n"
     ]
    }
   ],
   "source": [
    "objective = 'Process the EU sustainable finance taxonomy PDF file and extract and clean all the paragraphs in the document'\n",
    "print(objective)"
   ]
  },
  {
   "cell_type": "markdown",
   "id": "68e69435-bedf-4122-b5c1-4005d4fb9abb",
   "metadata": {},
   "source": [
    "### Extracting Paragraphs from the EU Taxonomy Document"
   ]
  },
  {
   "cell_type": "code",
   "execution_count": 2,
   "id": "9c989163-1808-47c3-bd55-94f7146180c1",
   "metadata": {},
   "outputs": [],
   "source": [
    "pdf_path = r'https://lp-prod-resources.s3.us-west-2.amazonaws.com/214/200309-sustainable-finance-teg-final-report-taxonomy-annexes_en.pdf'"
   ]
  },
  {
   "cell_type": "code",
   "execution_count": null,
   "id": "0e1b8321-deac-45de-b06d-0ff817a58049",
   "metadata": {},
   "outputs": [],
   "source": [
    "!pip install textract"
   ]
  },
  {
   "cell_type": "code",
   "execution_count": 4,
   "id": "87d05580-f825-4b77-a58e-f3d90050aab4",
   "metadata": {},
   "outputs": [],
   "source": [
    "import textract\n",
    "import requests\n",
    "import re\n",
    "import pandas as pd"
   ]
  },
  {
   "cell_type": "code",
   "execution_count": 5,
   "id": "1e4108e5-41bf-42e4-9b2b-e62c3e3b8b5f",
   "metadata": {},
   "outputs": [],
   "source": [
    "filename = \"taxonamy.pdf\""
   ]
  },
  {
   "cell_type": "code",
   "execution_count": null,
   "id": "846c5320-6021-4bfe-8bf2-112347e88989",
   "metadata": {},
   "outputs": [],
   "source": [
    "response = requests.get(pdf_path)\n",
    "#filepath = os.path.join(\"PDFs\", filename)\n",
    "with open(filename, \"wb\") as f:\n",
    "    f.write(response.content)"
   ]
  },
  {
   "cell_type": "code",
   "execution_count": 8,
   "id": "92e46891-4d98-4f3a-8d88-2308c22cddc8",
   "metadata": {},
   "outputs": [],
   "source": [
    "text = textract.process(filename).decode('utf-8').strip()"
   ]
  },
  {
   "cell_type": "code",
   "execution_count": 9,
   "id": "2cfe3a4b-2f48-4860-b210-e0738257d7b1",
   "metadata": {},
   "outputs": [
    {
     "data": {
      "text/plain": [
       "1320993"
      ]
     },
     "execution_count": 9,
     "metadata": {},
     "output_type": "execute_result"
    }
   ],
   "source": [
    "len(text)"
   ]
  },
  {
   "cell_type": "code",
   "execution_count": 10,
   "id": "5eb517cf-a3a6-48b4-adf8-56bdc24dcb6c",
   "metadata": {},
   "outputs": [
    {
     "data": {
      "text/plain": [
       "'Updated methodology & Updated Technical Screening Criteria\\n- 1-\\n\\nMarch 2020\\n\\n\\x0cAbout this report\\nThis document includes an updated Part B: Methodology from the June 2019 report and an updated Part\\nF: F'"
      ]
     },
     "execution_count": 10,
     "metadata": {},
     "output_type": "execute_result"
    }
   ],
   "source": [
    "text[0:200]"
   ]
  },
  {
   "cell_type": "code",
   "execution_count": 11,
   "id": "84351af3-264d-4f44-a9d2-72d158f225f4",
   "metadata": {},
   "outputs": [
    {
     "data": {
      "text/plain": [
       "'ull list of technical screening criteria. The other original sections from the June 2019 report can be\\nfound as labelled in the June 2019 report.\\nPART A\\n\\nExplanation of the Taxonomy approach. This sec'"
      ]
     },
     "execution_count": 11,
     "metadata": {},
     "output_type": "execute_result"
    }
   ],
   "source": [
    "text[200:400]"
   ]
  },
  {
   "cell_type": "code",
   "execution_count": 12,
   "id": "efde9bf8-d823-4333-b806-ea64f3a9d65a",
   "metadata": {},
   "outputs": [],
   "source": [
    "paragraphs = re.split(r'\\n', text)"
   ]
  },
  {
   "cell_type": "code",
   "execution_count": 13,
   "id": "64736e75-ce5b-4efb-b48f-bfc09cc9271c",
   "metadata": {},
   "outputs": [
    {
     "data": {
      "text/plain": [
       "34643"
      ]
     },
     "execution_count": 13,
     "metadata": {},
     "output_type": "execute_result"
    }
   ],
   "source": [
    "len(paragraphs)"
   ]
  },
  {
   "cell_type": "code",
   "execution_count": 14,
   "id": "4a3f138d-0c0b-4956-94e5-bf8712ddf2ad",
   "metadata": {},
   "outputs": [
    {
     "data": {
      "text/plain": [
       "['Updated methodology & Updated Technical Screening Criteria',\n",
       " '- 1-',\n",
       " '',\n",
       " 'March 2020',\n",
       " '']"
      ]
     },
     "execution_count": 14,
     "metadata": {},
     "output_type": "execute_result"
    }
   ],
   "source": [
    "paragraphs[0:5]"
   ]
  },
  {
   "cell_type": "code",
   "execution_count": 15,
   "id": "56aed5cf-14e6-4a23-86be-36c1371bafeb",
   "metadata": {},
   "outputs": [],
   "source": [
    "stripped = [x for x in paragraphs if x != '']"
   ]
  },
  {
   "cell_type": "code",
   "execution_count": 16,
   "id": "080c3a2c-175d-4ca3-9c9a-1a49e46b2602",
   "metadata": {},
   "outputs": [
    {
     "data": {
      "text/plain": [
       "25661"
      ]
     },
     "execution_count": 16,
     "metadata": {},
     "output_type": "execute_result"
    }
   ],
   "source": [
    "len(stripped)"
   ]
  },
  {
   "cell_type": "code",
   "execution_count": 17,
   "id": "acdd8f8c-b553-4a6f-b6bd-ee5325585710",
   "metadata": {},
   "outputs": [],
   "source": [
    "df_paragraphs = pd.DataFrame(stripped, columns=['paragraph'])"
   ]
  },
  {
   "cell_type": "code",
   "execution_count": 18,
   "id": "1270ed16-158b-4809-9eca-a7b974c6dcd3",
   "metadata": {},
   "outputs": [
    {
     "data": {
      "text/html": [
       "<div>\n",
       "<style scoped>\n",
       "    .dataframe tbody tr th:only-of-type {\n",
       "        vertical-align: middle;\n",
       "    }\n",
       "\n",
       "    .dataframe tbody tr th {\n",
       "        vertical-align: top;\n",
       "    }\n",
       "\n",
       "    .dataframe thead th {\n",
       "        text-align: right;\n",
       "    }\n",
       "</style>\n",
       "<table border=\"1\" class=\"dataframe\">\n",
       "  <thead>\n",
       "    <tr style=\"text-align: right;\">\n",
       "      <th></th>\n",
       "      <th>paragraph</th>\n",
       "    </tr>\n",
       "  </thead>\n",
       "  <tbody>\n",
       "    <tr>\n",
       "      <th>0</th>\n",
       "      <td>Updated methodology &amp; Updated Technical Screen...</td>\n",
       "    </tr>\n",
       "    <tr>\n",
       "      <th>1</th>\n",
       "      <td>- 1-</td>\n",
       "    </tr>\n",
       "    <tr>\n",
       "      <th>2</th>\n",
       "      <td>March 2020</td>\n",
       "    </tr>\n",
       "    <tr>\n",
       "      <th>3</th>\n",
       "      <td>About this report</td>\n",
       "    </tr>\n",
       "    <tr>\n",
       "      <th>4</th>\n",
       "      <td>This document includes an updated Part B: Meth...</td>\n",
       "    </tr>\n",
       "  </tbody>\n",
       "</table>\n",
       "</div>"
      ],
      "text/plain": [
       "                                           paragraph\n",
       "0  Updated methodology & Updated Technical Screen...\n",
       "1                                               - 1-\n",
       "2                                         March 2020\n",
       "3                                 \n",
       "About this report\n",
       "4  This document includes an updated Part B: Meth..."
      ]
     },
     "execution_count": 18,
     "metadata": {},
     "output_type": "execute_result"
    }
   ],
   "source": [
    "df_paragraphs.head()"
   ]
  },
  {
   "cell_type": "code",
   "execution_count": 19,
   "id": "293ab4c6-e0a8-4214-9e25-b4201924eb00",
   "metadata": {},
   "outputs": [
    {
     "data": {
      "text/plain": [
       "(25661, 1)"
      ]
     },
     "execution_count": 19,
     "metadata": {},
     "output_type": "execute_result"
    }
   ],
   "source": [
    "df_paragraphs.shape"
   ]
  },
  {
   "cell_type": "code",
   "execution_count": 20,
   "id": "cbc2f605-8593-4528-827d-cf9e98c5b43b",
   "metadata": {},
   "outputs": [],
   "source": [
    "df_paragraphs['len'] = df_paragraphs['paragraph'].apply(lambda x: len(x)) "
   ]
  },
  {
   "cell_type": "code",
   "execution_count": 21,
   "id": "ede4d11f-1ac9-4805-8231-2f8faa22bcab",
   "metadata": {},
   "outputs": [
    {
     "data": {
      "text/plain": [
       "count    25661.000000\n",
       "mean        50.128639\n",
       "std         38.260038\n",
       "min          1.000000\n",
       "25%         11.000000\n",
       "50%         54.000000\n",
       "75%         80.000000\n",
       "max        307.000000\n",
       "Name: len, dtype: float64"
      ]
     },
     "execution_count": 21,
     "metadata": {},
     "output_type": "execute_result"
    }
   ],
   "source": [
    "df_paragraphs['len'].describe()"
   ]
  },
  {
   "cell_type": "code",
   "execution_count": 22,
   "id": "d8f55094-3f44-45f1-b07e-448e19ca274d",
   "metadata": {},
   "outputs": [
    {
     "data": {
      "text/plain": [
       "(2526, 2)"
      ]
     },
     "execution_count": 22,
     "metadata": {},
     "output_type": "execute_result"
    }
   ],
   "source": [
    "df_paragraphs[ df_paragraphs['len'] == 1].shape"
   ]
  },
  {
   "cell_type": "code",
   "execution_count": 23,
   "id": "5486bd8f-b63e-4739-96ae-040ca2b56a79",
   "metadata": {},
   "outputs": [
    {
     "data": {
      "text/html": [
       "<div>\n",
       "<style scoped>\n",
       "    .dataframe tbody tr th:only-of-type {\n",
       "        vertical-align: middle;\n",
       "    }\n",
       "\n",
       "    .dataframe tbody tr th {\n",
       "        vertical-align: top;\n",
       "    }\n",
       "\n",
       "    .dataframe thead th {\n",
       "        text-align: right;\n",
       "    }\n",
       "</style>\n",
       "<table border=\"1\" class=\"dataframe\">\n",
       "  <thead>\n",
       "    <tr style=\"text-align: right;\">\n",
       "      <th></th>\n",
       "      <th>paragraph</th>\n",
       "      <th>len</th>\n",
       "    </tr>\n",
       "  </thead>\n",
       "  <tbody>\n",
       "    <tr>\n",
       "      <th>467</th>\n",
       "      <td>2</td>\n",
       "      <td>1</td>\n",
       "    </tr>\n",
       "    <tr>\n",
       "      <th>669</th>\n",
       "      <td>•</td>\n",
       "      <td>1</td>\n",
       "    </tr>\n",
       "    <tr>\n",
       "      <th>671</th>\n",
       "      <td>•</td>\n",
       "      <td>1</td>\n",
       "    </tr>\n",
       "    <tr>\n",
       "      <th>894</th>\n",
       "      <td></td>\n",
       "      <td>1</td>\n",
       "    </tr>\n",
       "    <tr>\n",
       "      <th>896</th>\n",
       "      <td></td>\n",
       "      <td>1</td>\n",
       "    </tr>\n",
       "    <tr>\n",
       "      <th>898</th>\n",
       "      <td></td>\n",
       "      <td>1</td>\n",
       "    </tr>\n",
       "    <tr>\n",
       "      <th>930</th>\n",
       "      <td></td>\n",
       "      <td>1</td>\n",
       "    </tr>\n",
       "    <tr>\n",
       "      <th>937</th>\n",
       "      <td></td>\n",
       "      <td>1</td>\n",
       "    </tr>\n",
       "    <tr>\n",
       "      <th>943</th>\n",
       "      <td></td>\n",
       "      <td>1</td>\n",
       "    </tr>\n",
       "    <tr>\n",
       "      <th>984</th>\n",
       "      <td></td>\n",
       "      <td>1</td>\n",
       "    </tr>\n",
       "  </tbody>\n",
       "</table>\n",
       "</div>"
      ],
      "text/plain": [
       "    paragraph  len\n",
       "467         2    1\n",
       "669         •    1\n",
       "671         •    1\n",
       "894             1\n",
       "896             1\n",
       "898             1\n",
       "930             1\n",
       "937             1\n",
       "943             1\n",
       "984             1"
      ]
     },
     "execution_count": 23,
     "metadata": {},
     "output_type": "execute_result"
    }
   ],
   "source": [
    "df_paragraphs[ df_paragraphs['len'] == 1].head(10)"
   ]
  },
  {
   "cell_type": "code",
   "execution_count": 24,
   "id": "6846a72a-c86a-429f-8f77-3b82d172ec13",
   "metadata": {},
   "outputs": [
    {
     "data": {
      "text/html": [
       "<div>\n",
       "<style scoped>\n",
       "    .dataframe tbody tr th:only-of-type {\n",
       "        vertical-align: middle;\n",
       "    }\n",
       "\n",
       "    .dataframe tbody tr th {\n",
       "        vertical-align: top;\n",
       "    }\n",
       "\n",
       "    .dataframe thead th {\n",
       "        text-align: right;\n",
       "    }\n",
       "</style>\n",
       "<table border=\"1\" class=\"dataframe\">\n",
       "  <thead>\n",
       "    <tr style=\"text-align: right;\">\n",
       "      <th></th>\n",
       "      <th>paragraph</th>\n",
       "      <th>len</th>\n",
       "    </tr>\n",
       "  </thead>\n",
       "  <tbody>\n",
       "    <tr>\n",
       "      <th>7</th>\n",
       "      <td>PART A</td>\n",
       "      <td>6</td>\n",
       "    </tr>\n",
       "    <tr>\n",
       "      <th>11</th>\n",
       "      <td>PART B</td>\n",
       "      <td>6</td>\n",
       "    </tr>\n",
       "    <tr>\n",
       "      <th>16</th>\n",
       "      <td>PART C</td>\n",
       "      <td>6</td>\n",
       "    </tr>\n",
       "    <tr>\n",
       "      <th>19</th>\n",
       "      <td>PART D</td>\n",
       "      <td>6</td>\n",
       "    </tr>\n",
       "    <tr>\n",
       "      <th>22</th>\n",
       "      <td>PART E</td>\n",
       "      <td>6</td>\n",
       "    </tr>\n",
       "  </tbody>\n",
       "</table>\n",
       "</div>"
      ],
      "text/plain": [
       "   paragraph  len\n",
       "7     PART A    6\n",
       "11    PART B    6\n",
       "16    PART C    6\n",
       "19    PART D    6\n",
       "22    PART E    6"
      ]
     },
     "execution_count": 24,
     "metadata": {},
     "output_type": "execute_result"
    }
   ],
   "source": [
    "df_paragraphs[ df_paragraphs['len'] == 6].head()"
   ]
  },
  {
   "cell_type": "code",
   "execution_count": 25,
   "id": "97fede7d-59c1-4feb-92f5-25f4d94cf114",
   "metadata": {},
   "outputs": [
    {
     "data": {
      "text/html": [
       "<div>\n",
       "<style scoped>\n",
       "    .dataframe tbody tr th:only-of-type {\n",
       "        vertical-align: middle;\n",
       "    }\n",
       "\n",
       "    .dataframe tbody tr th {\n",
       "        vertical-align: top;\n",
       "    }\n",
       "\n",
       "    .dataframe thead th {\n",
       "        text-align: right;\n",
       "    }\n",
       "</style>\n",
       "<table border=\"1\" class=\"dataframe\">\n",
       "  <thead>\n",
       "    <tr style=\"text-align: right;\">\n",
       "      <th></th>\n",
       "      <th>paragraph</th>\n",
       "      <th>len</th>\n",
       "    </tr>\n",
       "  </thead>\n",
       "  <tbody>\n",
       "    <tr>\n",
       "      <th>1</th>\n",
       "      <td>- 1-</td>\n",
       "      <td>4</td>\n",
       "    </tr>\n",
       "    <tr>\n",
       "      <th>2</th>\n",
       "      <td>March 2020</td>\n",
       "      <td>10</td>\n",
       "    </tr>\n",
       "    <tr>\n",
       "      <th>7</th>\n",
       "      <td>PART A</td>\n",
       "      <td>6</td>\n",
       "    </tr>\n",
       "    <tr>\n",
       "      <th>11</th>\n",
       "      <td>PART B</td>\n",
       "      <td>6</td>\n",
       "    </tr>\n",
       "    <tr>\n",
       "      <th>16</th>\n",
       "      <td>PART C</td>\n",
       "      <td>6</td>\n",
       "    </tr>\n",
       "    <tr>\n",
       "      <th>...</th>\n",
       "      <td>...</td>\n",
       "      <td>...</td>\n",
       "    </tr>\n",
       "    <tr>\n",
       "      <th>25650</th>\n",
       "      <td>NACE CODE</td>\n",
       "      <td>9</td>\n",
       "    </tr>\n",
       "    <tr>\n",
       "      <th>25654</th>\n",
       "      <td>Wind-related</td>\n",
       "      <td>12</td>\n",
       "    </tr>\n",
       "    <tr>\n",
       "      <th>25657</th>\n",
       "      <td>Heat Stress</td>\n",
       "      <td>11</td>\n",
       "    </tr>\n",
       "    <tr>\n",
       "      <th>25659</th>\n",
       "      <td>Wildfire</td>\n",
       "      <td>8</td>\n",
       "    </tr>\n",
       "    <tr>\n",
       "      <th>25660</th>\n",
       "      <td>5.</td>\n",
       "      <td>2</td>\n",
       "    </tr>\n",
       "  </tbody>\n",
       "</table>\n",
       "<p>7820 rows × 2 columns</p>\n",
       "</div>"
      ],
      "text/plain": [
       "          paragraph  len\n",
       "1              - 1-    4\n",
       "2        March 2020   10\n",
       "7            PART A    6\n",
       "11           PART B    6\n",
       "16           PART C    6\n",
       "...             ...  ...\n",
       "25650     NACE CODE    9\n",
       "25654  Wind-related   12\n",
       "25657   Heat Stress   11\n",
       "25659      Wildfire    8\n",
       "25660            5.    2\n",
       "\n",
       "[7820 rows x 2 columns]"
      ]
     },
     "execution_count": 25,
     "metadata": {},
     "output_type": "execute_result"
    }
   ],
   "source": [
    "df_paragraphs[ df_paragraphs['len'] <= 15 ]"
   ]
  },
  {
   "cell_type": "code",
   "execution_count": 26,
   "id": "58633de7-5f88-4dfa-8075-8a4968923dac",
   "metadata": {},
   "outputs": [],
   "source": [
    "df_paragraphs = df_paragraphs[ df_paragraphs['len'] >= 15 ]"
   ]
  },
  {
   "cell_type": "code",
   "execution_count": 27,
   "id": "b8667c3c-049d-4441-b441-4fee18d0090b",
   "metadata": {},
   "outputs": [
    {
     "data": {
      "text/html": [
       "<div>\n",
       "<style scoped>\n",
       "    .dataframe tbody tr th:only-of-type {\n",
       "        vertical-align: middle;\n",
       "    }\n",
       "\n",
       "    .dataframe tbody tr th {\n",
       "        vertical-align: top;\n",
       "    }\n",
       "\n",
       "    .dataframe thead th {\n",
       "        text-align: right;\n",
       "    }\n",
       "</style>\n",
       "<table border=\"1\" class=\"dataframe\">\n",
       "  <thead>\n",
       "    <tr style=\"text-align: right;\">\n",
       "      <th></th>\n",
       "      <th>paragraph</th>\n",
       "      <th>len</th>\n",
       "    </tr>\n",
       "  </thead>\n",
       "  <tbody>\n",
       "    <tr>\n",
       "      <th>0</th>\n",
       "      <td>Updated methodology &amp; Updated Technical Screen...</td>\n",
       "      <td>58</td>\n",
       "    </tr>\n",
       "    <tr>\n",
       "      <th>3</th>\n",
       "      <td>About this report</td>\n",
       "      <td>18</td>\n",
       "    </tr>\n",
       "    <tr>\n",
       "      <th>4</th>\n",
       "      <td>This document includes an updated Part B: Meth...</td>\n",
       "      <td>99</td>\n",
       "    </tr>\n",
       "    <tr>\n",
       "      <th>5</th>\n",
       "      <td>F: Full list of technical screening criteria. ...</td>\n",
       "      <td>106</td>\n",
       "    </tr>\n",
       "    <tr>\n",
       "      <th>6</th>\n",
       "      <td>found as labelled in the June 2019 report.</td>\n",
       "      <td>42</td>\n",
       "    </tr>\n",
       "    <tr>\n",
       "      <th>...</th>\n",
       "      <td>...</td>\n",
       "      <td>...</td>\n",
       "    </tr>\n",
       "    <tr>\n",
       "      <th>25652</th>\n",
       "      <td>Sewerage, Waste Management</td>\n",
       "      <td>26</td>\n",
       "    </tr>\n",
       "    <tr>\n",
       "      <th>25653</th>\n",
       "      <td>and Remediation Activities</td>\n",
       "      <td>26</td>\n",
       "    </tr>\n",
       "    <tr>\n",
       "      <th>25655</th>\n",
       "      <td>Changing Wind Patterns</td>\n",
       "      <td>22</td>\n",
       "    </tr>\n",
       "    <tr>\n",
       "      <th>25656</th>\n",
       "      <td>Temperature-related</td>\n",
       "      <td>19</td>\n",
       "    </tr>\n",
       "    <tr>\n",
       "      <th>25658</th>\n",
       "      <td>Economic Activity</td>\n",
       "      <td>17</td>\n",
       "    </tr>\n",
       "  </tbody>\n",
       "</table>\n",
       "<p>17986 rows × 2 columns</p>\n",
       "</div>"
      ],
      "text/plain": [
       "                                               paragraph  len\n",
       "0      Updated methodology & Updated Technical Screen...   58\n",
       "3                                     \n",
       "About this report   18\n",
       "4      This document includes an updated Part B: Meth...   99\n",
       "5      F: Full list of technical screening criteria. ...  106\n",
       "6             found as labelled in the June 2019 report.   42\n",
       "...                                                  ...  ...\n",
       "25652                         Sewerage, Waste Management   26\n",
       "25653                         and Remediation Activities   26\n",
       "25655                             Changing Wind Patterns   22\n",
       "25656                                Temperature-related   19\n",
       "25658                                  Economic Activity   17\n",
       "\n",
       "[17986 rows x 2 columns]"
      ]
     },
     "execution_count": 27,
     "metadata": {},
     "output_type": "execute_result"
    }
   ],
   "source": [
    "df_paragraphs"
   ]
  },
  {
   "cell_type": "code",
   "execution_count": 28,
   "id": "92ba03e9-65d4-4b56-b729-d3701fed38a6",
   "metadata": {},
   "outputs": [
    {
     "data": {
      "text/plain": [
       "count    17986.000000\n",
       "mean        69.105805\n",
       "std         29.594580\n",
       "min         15.000000\n",
       "25%         49.000000\n",
       "50%         72.000000\n",
       "75%         92.000000\n",
       "max        307.000000\n",
       "Name: len, dtype: float64"
      ]
     },
     "execution_count": 28,
     "metadata": {},
     "output_type": "execute_result"
    }
   ],
   "source": [
    "df_paragraphs['len'].describe()"
   ]
  },
  {
   "cell_type": "code",
   "execution_count": 29,
   "id": "652eb043-4ce5-42ac-8bdb-6b89f9a83051",
   "metadata": {},
   "outputs": [
    {
     "data": {
      "text/plain": [
       "(17986, 2)"
      ]
     },
     "execution_count": 29,
     "metadata": {},
     "output_type": "execute_result"
    }
   ],
   "source": [
    "df_paragraphs.shape"
   ]
  },
  {
   "cell_type": "markdown",
   "id": "f9bc2f3a-82ac-4bb3-80b9-691dfb243a2a",
   "metadata": {},
   "source": [
    "### Question Paragraph Matching"
   ]
  },
  {
   "cell_type": "markdown",
   "id": "c7e1efd2-1296-4b53-a6f4-380e0e04ca9d",
   "metadata": {},
   "source": [
    "#### Build a text vectorizer that finds the best matching paragraph for the provided set of questions and qualitatively evaluates the results"
   ]
  },
  {
   "cell_type": "code",
   "execution_count": 137,
   "id": "612ffe2a-2300-44bb-8240-7aba624233ff",
   "metadata": {},
   "outputs": [],
   "source": [
    "questions = [\n",
    "'What fuel is used for the manufacturing of chlorine?',\n",
    "'What metric is used for evaluating emission?',\n",
    "'How can carbon emission of the processes of cement clinker be reduced?',\n",
    "'How is the Weighted Cogeneration Threshold calculated?',\n",
    "'What are carbon capture and sequestration?',\n",
    "'What stages does CCS consist of?',\n",
    "'What should be the average energy consumption of a water supply system?',\n",
    "'What are sludge treatments? -What is the process of anaerobic digestion?',\n",
    "'How is reforestation defined?',\n",
    "'What is the threshold of emission for inland passenger water transport?',\n",
    "'What are the requirements of reporting for electricity generation from natural gas where there might be fugitive emissions?',\n",
    "]"
   ]
  },
  {
   "cell_type": "code",
   "execution_count": 139,
   "id": "f0dafe8e-13d8-4dcc-9796-14d93ee8e19d",
   "metadata": {},
   "outputs": [
    {
     "data": {
      "text/plain": [
       "'What fuel is used for the manufacturing of chlorine?'"
      ]
     },
     "execution_count": 139,
     "metadata": {},
     "output_type": "execute_result"
    }
   ],
   "source": [
    "questions[0]"
   ]
  },
  {
   "cell_type": "code",
   "execution_count": 33,
   "id": "7051cd41-2e9b-4c9e-b882-9a67d4c16bc5",
   "metadata": {},
   "outputs": [],
   "source": [
    "# text preprocessing\n",
    "# Tokenization\n",
    "# Lower casing\n",
    "# Stop words removal\n",
    "# Stemming\n",
    "# Lemmatization"
   ]
  },
  {
   "cell_type": "code",
   "execution_count": 34,
   "id": "d0545277-df5a-452f-894c-15a2ef0b2c09",
   "metadata": {},
   "outputs": [],
   "source": [
    "import nltk\n",
    "from nltk.tokenize import TreebankWordTokenizer\n",
    "from sklearn.feature_extraction.text import TfidfVectorizer"
   ]
  },
  {
   "cell_type": "code",
   "execution_count": 37,
   "id": "68d1d40a-f358-4eba-9f2a-50e9aa40dd82",
   "metadata": {},
   "outputs": [],
   "source": [
    "nltk.download('stopwords', quiet=True)\n",
    "stopwords = nltk.corpus.stopwords.words('english')"
   ]
  },
  {
   "cell_type": "code",
   "execution_count": 58,
   "id": "ae78b0d4-5e74-479d-bbe7-ef46fe98540a",
   "metadata": {},
   "outputs": [
    {
     "data": {
      "text/plain": [
       "['i', 'me', 'my', 'myself', 'we']"
      ]
     },
     "execution_count": 58,
     "metadata": {},
     "output_type": "execute_result"
    }
   ],
   "source": [
    "stopwords[:5]"
   ]
  },
  {
   "cell_type": "code",
   "execution_count": 61,
   "id": "d6119f28-e10d-478d-996a-4300954c4e1c",
   "metadata": {},
   "outputs": [],
   "source": [
    "def tokenization(text):\n",
    "    tokenizer = TreebankWordTokenizer()\n",
    "    tokens = tokenizer.tokenize(text.lower())\n",
    "    return tokens"
   ]
  },
  {
   "cell_type": "code",
   "execution_count": 62,
   "id": "72c21ca7-8155-408b-8aae-1eb04936460b",
   "metadata": {},
   "outputs": [],
   "source": [
    "def remove_punctuation(tokens):\n",
    "    words=[word.lower() for word in tokens if word.isalpha()]\n",
    "    return words"
   ]
  },
  {
   "cell_type": "code",
   "execution_count": 63,
   "id": "91c824ed-699e-49b1-b4ac-e04ceb9a7885",
   "metadata": {},
   "outputs": [],
   "source": [
    "def remove_stopwords(tokens):\n",
    "    tokens = [x for x in tokens if x not in stopwords]\n",
    "    return tokens"
   ]
  },
  {
   "cell_type": "code",
   "execution_count": 83,
   "id": "891bfb0f-fae1-4c65-9c1f-86a20d2a73a5",
   "metadata": {},
   "outputs": [],
   "source": [
    "def tfidif_vectorize(corpus):\n",
    "    vectorizer = TfidfVectorizer()\n",
    "    X = vectorizer.fit_transform(corpus)\n",
    "    return X"
   ]
  },
  {
   "cell_type": "code",
   "execution_count": 65,
   "id": "b6b38491-f1af-4e21-b1a4-cd0fb924fabf",
   "metadata": {},
   "outputs": [
    {
     "name": "stdout",
     "output_type": "stream",
     "text": [
      "['this', 'document', 'includes', 'an', 'updated', 'part', 'b', ':', 'methodology', 'from', 'the', 'june', '2019', 'report', 'and', 'an', 'updated', 'part']\n",
      "['document', 'includes', 'updated', 'part', 'b', ':', 'methodology', 'june', '2019', 'report', 'updated', 'part']\n"
     ]
    }
   ],
   "source": [
    "#sentence = \"The faster Harry got to the store, the faster Harry, the faster, would get home.\"\n",
    "sentence = df_paragraphs['paragraph'].iloc[2]\n",
    "tokens = tokenization(sentence)\n",
    "print(tokens)\n",
    "tokens_ohne_stopwords = remove_stopwords(tokens)\n",
    "print(tokens_ohne_stopwords)"
   ]
  },
  {
   "cell_type": "code",
   "execution_count": 66,
   "id": "a017dbfa-b8c3-4be0-b800-ef0617eb2e48",
   "metadata": {},
   "outputs": [],
   "source": [
    "#Initiate a TF-IDF model trained on the paragraphs from the previous milestone by using the TfidfVectorizer class \n",
    "# from the scikit-learn library. \n",
    "#This model will provide a representation for each paragraph or each question."
   ]
  },
  {
   "cell_type": "code",
   "execution_count": 67,
   "id": "3009e937-a955-4643-a29f-91dc9638b9a7",
   "metadata": {},
   "outputs": [],
   "source": [
    "df_paragraphs['tokens'] = df_paragraphs['paragraph'].apply(lambda x: tokenization(x))\n",
    "df_paragraphs['tokens_ohne_punct'] = df_paragraphs['tokens'].apply(lambda x: remove_punctuation(x))\n",
    "df_paragraphs['tokens_ohne_stopwords'] = df_paragraphs['tokens_ohne_punct'].apply(lambda x: remove_stopwords(x))"
   ]
  },
  {
   "cell_type": "code",
   "execution_count": 68,
   "id": "2eee230b-cf7f-4fdd-a370-bae31ecffd2d",
   "metadata": {},
   "outputs": [
    {
     "data": {
      "text/html": [
       "<div>\n",
       "<style scoped>\n",
       "    .dataframe tbody tr th:only-of-type {\n",
       "        vertical-align: middle;\n",
       "    }\n",
       "\n",
       "    .dataframe tbody tr th {\n",
       "        vertical-align: top;\n",
       "    }\n",
       "\n",
       "    .dataframe thead th {\n",
       "        text-align: right;\n",
       "    }\n",
       "</style>\n",
       "<table border=\"1\" class=\"dataframe\">\n",
       "  <thead>\n",
       "    <tr style=\"text-align: right;\">\n",
       "      <th></th>\n",
       "      <th>paragraph</th>\n",
       "      <th>len</th>\n",
       "      <th>tokens</th>\n",
       "      <th>tokens_ohne_punct</th>\n",
       "      <th>tokens_ohne_stopwords</th>\n",
       "    </tr>\n",
       "  </thead>\n",
       "  <tbody>\n",
       "    <tr>\n",
       "      <th>0</th>\n",
       "      <td>Updated methodology &amp; Updated Technical Screen...</td>\n",
       "      <td>58</td>\n",
       "      <td>[updated, methodology, &amp;, updated, technical, ...</td>\n",
       "      <td>[updated, methodology, updated, technical, scr...</td>\n",
       "      <td>[updated, methodology, updated, technical, scr...</td>\n",
       "    </tr>\n",
       "    <tr>\n",
       "      <th>3</th>\n",
       "      <td>About this report</td>\n",
       "      <td>18</td>\n",
       "      <td>[about, this, report]</td>\n",
       "      <td>[about, this, report]</td>\n",
       "      <td>[report]</td>\n",
       "    </tr>\n",
       "    <tr>\n",
       "      <th>4</th>\n",
       "      <td>This document includes an updated Part B: Meth...</td>\n",
       "      <td>99</td>\n",
       "      <td>[this, document, includes, an, updated, part, ...</td>\n",
       "      <td>[this, document, includes, an, updated, part, ...</td>\n",
       "      <td>[document, includes, updated, part, b, methodo...</td>\n",
       "    </tr>\n",
       "    <tr>\n",
       "      <th>5</th>\n",
       "      <td>F: Full list of technical screening criteria. ...</td>\n",
       "      <td>106</td>\n",
       "      <td>[f, :, full, list, of, technical, screening, c...</td>\n",
       "      <td>[f, full, list, of, technical, screening, the,...</td>\n",
       "      <td>[f, full, list, technical, screening, original...</td>\n",
       "    </tr>\n",
       "    <tr>\n",
       "      <th>6</th>\n",
       "      <td>found as labelled in the June 2019 report.</td>\n",
       "      <td>42</td>\n",
       "      <td>[found, as, labelled, in, the, june, 2019, rep...</td>\n",
       "      <td>[found, as, labelled, in, the, june, report]</td>\n",
       "      <td>[found, labelled, june, report]</td>\n",
       "    </tr>\n",
       "  </tbody>\n",
       "</table>\n",
       "</div>"
      ],
      "text/plain": [
       "                                           paragraph  len  \\\n",
       "0  Updated methodology & Updated Technical Screen...   58   \n",
       "3                                 \n",
       "About this report   18   \n",
       "4  This document includes an updated Part B: Meth...   99   \n",
       "5  F: Full list of technical screening criteria. ...  106   \n",
       "6         found as labelled in the June 2019 report.   42   \n",
       "\n",
       "                                              tokens  \\\n",
       "0  [updated, methodology, &, updated, technical, ...   \n",
       "3                              [about, this, report]   \n",
       "4  [this, document, includes, an, updated, part, ...   \n",
       "5  [f, :, full, list, of, technical, screening, c...   \n",
       "6  [found, as, labelled, in, the, june, 2019, rep...   \n",
       "\n",
       "                                   tokens_ohne_punct  \\\n",
       "0  [updated, methodology, updated, technical, scr...   \n",
       "3                              [about, this, report]   \n",
       "4  [this, document, includes, an, updated, part, ...   \n",
       "5  [f, full, list, of, technical, screening, the,...   \n",
       "6       [found, as, labelled, in, the, june, report]   \n",
       "\n",
       "                               tokens_ohne_stopwords  \n",
       "0  [updated, methodology, updated, technical, scr...  \n",
       "3                                           [report]  \n",
       "4  [document, includes, updated, part, b, methodo...  \n",
       "5  [f, full, list, technical, screening, original...  \n",
       "6                    [found, labelled, june, report]  "
      ]
     },
     "execution_count": 68,
     "metadata": {},
     "output_type": "execute_result"
    }
   ],
   "source": [
    "df_paragraphs.head(5)"
   ]
  },
  {
   "cell_type": "code",
   "execution_count": null,
   "id": "d384365b-75b5-4033-b559-2812645031cf",
   "metadata": {},
   "outputs": [],
   "source": []
  },
  {
   "cell_type": "code",
   "execution_count": 70,
   "id": "4ccf6aa3-6c9a-429a-8ff2-2212cbe45584",
   "metadata": {},
   "outputs": [],
   "source": [
    "#tfidf_tokens = vectorizer.get_feature_names_out()"
   ]
  },
  {
   "cell_type": "code",
   "execution_count": 71,
   "id": "4cef8137-5d23-4fde-82e8-c2a47cf37fb1",
   "metadata": {},
   "outputs": [],
   "source": [
    "df_paragraphs['token_count'] = df_paragraphs['tokens_ohne_stopwords'].apply(lambda x: len(x))"
   ]
  },
  {
   "cell_type": "code",
   "execution_count": 72,
   "id": "e3f288d1-aa38-461c-91d3-b210ce56f977",
   "metadata": {},
   "outputs": [],
   "source": [
    "df_paragraphs = df_paragraphs[ df_paragraphs['token_count'] > 0]"
   ]
  },
  {
   "cell_type": "code",
   "execution_count": 109,
   "id": "53af18e1-1abd-4594-8c3c-35280d7dfbe6",
   "metadata": {},
   "outputs": [
    {
     "name": "stdout",
     "output_type": "stream",
     "text": [
      "(17910, 6650)\n",
      "6650\n"
     ]
    }
   ],
   "source": [
    "vectorizer = TfidfVectorizer()\n",
    "X = vectorizer.fit_transform(df_paragraphs['paragraph'])\n",
    "tfidf_tokens = vectorizer.get_feature_names_out()\n",
    "#print(X)\n",
    "#print(vectorizer.get_feature_names_out())\n",
    "print(X.shape)\n",
    "print(len(tfidf_tokens))"
   ]
  },
  {
   "cell_type": "code",
   "execution_count": 111,
   "id": "2c34fdf4-792e-4ad3-8c1a-6501017005b1",
   "metadata": {},
   "outputs": [
    {
     "name": "stdout",
     "output_type": "stream",
     "text": [
      "        00  000  0001  0003  0005  001  0013  001_099  0032   01  ...   yr  \\\n",
      "0      0.0  0.0   0.0   0.0   0.0  0.0   0.0      0.0   0.0  0.0  ...  0.0   \n",
      "1      0.0  0.0   0.0   0.0   0.0  0.0   0.0      0.0   0.0  0.0  ...  0.0   \n",
      "2      0.0  0.0   0.0   0.0   0.0  0.0   0.0      0.0   0.0  0.0  ...  0.0   \n",
      "3      0.0  0.0   0.0   0.0   0.0  0.0   0.0      0.0   0.0  0.0  ...  0.0   \n",
      "4      0.0  0.0   0.0   0.0   0.0  0.0   0.0      0.0   0.0  0.0  ...  0.0   \n",
      "...    ...  ...   ...   ...   ...  ...   ...      ...   ...  ...  ...  ...   \n",
      "17905  0.0  0.0   0.0   0.0   0.0  0.0   0.0      0.0   0.0  0.0  ...  0.0   \n",
      "17906  0.0  0.0   0.0   0.0   0.0  0.0   0.0      0.0   0.0  0.0  ...  0.0   \n",
      "17907  0.0  0.0   0.0   0.0   0.0  0.0   0.0      0.0   0.0  0.0  ...  0.0   \n",
      "17908  0.0  0.0   0.0   0.0   0.0  0.0   0.0      0.0   0.0  0.0  ...  0.0   \n",
      "17909  0.0  0.0   0.0   0.0   0.0  0.0   0.0      0.0   0.0  0.0  ...  0.0   \n",
      "\n",
      "       zero  zerocarbon  zinc  zone  zoned  zones  zoning  zurich  zwickel  \n",
      "0       0.0         0.0   0.0   0.0    0.0    0.0     0.0     0.0      0.0  \n",
      "1       0.0         0.0   0.0   0.0    0.0    0.0     0.0     0.0      0.0  \n",
      "2       0.0         0.0   0.0   0.0    0.0    0.0     0.0     0.0      0.0  \n",
      "3       0.0         0.0   0.0   0.0    0.0    0.0     0.0     0.0      0.0  \n",
      "4       0.0         0.0   0.0   0.0    0.0    0.0     0.0     0.0      0.0  \n",
      "...     ...         ...   ...   ...    ...    ...     ...     ...      ...  \n",
      "17905   0.0         0.0   0.0   0.0    0.0    0.0     0.0     0.0      0.0  \n",
      "17906   0.0         0.0   0.0   0.0    0.0    0.0     0.0     0.0      0.0  \n",
      "17907   0.0         0.0   0.0   0.0    0.0    0.0     0.0     0.0      0.0  \n",
      "17908   0.0         0.0   0.0   0.0    0.0    0.0     0.0     0.0      0.0  \n",
      "17909   0.0         0.0   0.0   0.0    0.0    0.0     0.0     0.0      0.0  \n",
      "\n",
      "[17910 rows x 6650 columns]\n"
     ]
    }
   ],
   "source": [
    "result = pd.DataFrame(\n",
    "    data=X.toarray(), \n",
    "    columns=tfidf_tokens\n",
    ")\n",
    "\n",
    "print(result)"
   ]
  },
  {
   "cell_type": "code",
   "execution_count": 163,
   "id": "0c707e5b-bccc-404d-8a24-0b73d05d3b9b",
   "metadata": {},
   "outputs": [
    {
     "name": "stdout",
     "output_type": "stream",
     "text": [
      "(11, 61)\n",
      "61\n"
     ]
    }
   ],
   "source": [
    "#vectoreize questions\n",
    "vectorizer_q = TfidfVectorizer()\n",
    "X_q = vectorizer_q.fit_transform(questions)\n",
    "tfidf_tokens_q = vectorizer_q.get_feature_names_out()\n",
    "#print(X)\n",
    "#print(vectorizer.get_feature_names_out())\n",
    "print(X_q.shape)\n",
    "print(len(tfidf_tokens_q))"
   ]
  },
  {
   "cell_type": "code",
   "execution_count": 175,
   "id": "ccd4315e-309a-4b1f-a926-6f45e04c3ce1",
   "metadata": {},
   "outputs": [
    {
     "name": "stdout",
     "output_type": "stream",
     "text": [
      "  (0, 2034)\t0.201342254386469\n",
      "  (0, 5490)\t0.2682293826770722\n",
      "  (0, 6008)\t0.32033041053257916\n",
      "  (0, 4105)\t0.3504068840299295\n",
      "  (0, 6345)\t0.8137061745984947\n"
     ]
    }
   ],
   "source": [
    "print(X[0])"
   ]
  },
  {
   "cell_type": "code",
   "execution_count": 165,
   "id": "92d38794-4b90-4a4d-bfd7-01a8df78f9e3",
   "metadata": {},
   "outputs": [
    {
     "name": "stdout",
     "output_type": "stream",
     "text": [
      "  (0, 11)\t0.4382994892503739\n",
      "  (0, 37)\t0.22065462509682585\n",
      "  (0, 33)\t0.4382994892503739\n",
      "  (0, 51)\t0.22065462509682585\n",
      "  (0, 24)\t0.2944440589341146\n",
      "  (0, 56)\t0.374642447248186\n",
      "  (0, 32)\t0.24161873100613704\n",
      "  (0, 26)\t0.4382994892503739\n",
      "  (0, 59)\t0.20216297316922405\n"
     ]
    }
   ],
   "source": [
    "print(X_q[0])"
   ]
  },
  {
   "cell_type": "code",
   "execution_count": 167,
   "id": "7250f39f-381c-4333-b3ba-528c6d1c99c5",
   "metadata": {},
   "outputs": [],
   "source": [
    "from sklearn.metrics.pairwise import linear_kernel"
   ]
  },
  {
   "cell_type": "code",
   "execution_count": 173,
   "id": "b0e23c54-4803-4810-838d-1806a405a01d",
   "metadata": {},
   "outputs": [
    {
     "ename": "ValueError",
     "evalue": "Incompatible dimension for X and Y matrices: X.shape[1] == 6650 while Y.shape[1] == 61",
     "output_type": "error",
     "traceback": [
      "\u001b[0;31m---------------------------------------------------------------------------\u001b[0m",
      "\u001b[0;31mValueError\u001b[0m                                Traceback (most recent call last)",
      "Cell \u001b[0;32mIn[173], line 1\u001b[0m\n\u001b[0;32m----> 1\u001b[0m linear_kernel(X,X_q)\n",
      "File \u001b[0;32m/opt/conda/envs/anaconda-panel-2023.05-py310/lib/python3.11/site-packages/sklearn/metrics/pairwise.py:1203\u001b[0m, in \u001b[0;36mlinear_kernel\u001b[0;34m(X, Y, dense_output)\u001b[0m\n\u001b[1;32m   1178\u001b[0m \u001b[38;5;28;01mdef\u001b[39;00m \u001b[38;5;21mlinear_kernel\u001b[39m(X, Y\u001b[38;5;241m=\u001b[39m\u001b[38;5;28;01mNone\u001b[39;00m, dense_output\u001b[38;5;241m=\u001b[39m\u001b[38;5;28;01mTrue\u001b[39;00m):\n\u001b[1;32m   1179\u001b[0m \u001b[38;5;250m    \u001b[39m\u001b[38;5;124;03m\"\"\"\u001b[39;00m\n\u001b[1;32m   1180\u001b[0m \u001b[38;5;124;03m    Compute the linear kernel between X and Y.\u001b[39;00m\n\u001b[1;32m   1181\u001b[0m \n\u001b[0;32m   (...)\u001b[0m\n\u001b[1;32m   1201\u001b[0m \u001b[38;5;124;03m        The Gram matrix of the linear kernel, i.e. `X @ Y.T`.\u001b[39;00m\n\u001b[1;32m   1202\u001b[0m \u001b[38;5;124;03m    \"\"\"\u001b[39;00m\n\u001b[0;32m-> 1203\u001b[0m     X, Y \u001b[38;5;241m=\u001b[39m check_pairwise_arrays(X, Y)\n\u001b[1;32m   1204\u001b[0m     \u001b[38;5;28;01mreturn\u001b[39;00m safe_sparse_dot(X, Y\u001b[38;5;241m.\u001b[39mT, dense_output\u001b[38;5;241m=\u001b[39mdense_output)\n",
      "File \u001b[0;32m/opt/conda/envs/anaconda-panel-2023.05-py310/lib/python3.11/site-packages/sklearn/metrics/pairwise.py:180\u001b[0m, in \u001b[0;36mcheck_pairwise_arrays\u001b[0;34m(X, Y, precomputed, dtype, accept_sparse, force_all_finite, copy)\u001b[0m\n\u001b[1;32m    174\u001b[0m         \u001b[38;5;28;01mraise\u001b[39;00m \u001b[38;5;167;01mValueError\u001b[39;00m(\n\u001b[1;32m    175\u001b[0m             \u001b[38;5;124m\"\u001b[39m\u001b[38;5;124mPrecomputed metric requires shape \u001b[39m\u001b[38;5;124m\"\u001b[39m\n\u001b[1;32m    176\u001b[0m             \u001b[38;5;124m\"\u001b[39m\u001b[38;5;124m(n_queries, n_indexed). Got (\u001b[39m\u001b[38;5;132;01m%d\u001b[39;00m\u001b[38;5;124m, \u001b[39m\u001b[38;5;132;01m%d\u001b[39;00m\u001b[38;5;124m) \u001b[39m\u001b[38;5;124m\"\u001b[39m\n\u001b[1;32m    177\u001b[0m             \u001b[38;5;124m\"\u001b[39m\u001b[38;5;124mfor \u001b[39m\u001b[38;5;132;01m%d\u001b[39;00m\u001b[38;5;124m indexed.\u001b[39m\u001b[38;5;124m\"\u001b[39m \u001b[38;5;241m%\u001b[39m (X\u001b[38;5;241m.\u001b[39mshape[\u001b[38;5;241m0\u001b[39m], X\u001b[38;5;241m.\u001b[39mshape[\u001b[38;5;241m1\u001b[39m], Y\u001b[38;5;241m.\u001b[39mshape[\u001b[38;5;241m0\u001b[39m])\n\u001b[1;32m    178\u001b[0m         )\n\u001b[1;32m    179\u001b[0m \u001b[38;5;28;01melif\u001b[39;00m X\u001b[38;5;241m.\u001b[39mshape[\u001b[38;5;241m1\u001b[39m] \u001b[38;5;241m!=\u001b[39m Y\u001b[38;5;241m.\u001b[39mshape[\u001b[38;5;241m1\u001b[39m]:\n\u001b[0;32m--> 180\u001b[0m     \u001b[38;5;28;01mraise\u001b[39;00m \u001b[38;5;167;01mValueError\u001b[39;00m(\n\u001b[1;32m    181\u001b[0m         \u001b[38;5;124m\"\u001b[39m\u001b[38;5;124mIncompatible dimension for X and Y matrices: \u001b[39m\u001b[38;5;124m\"\u001b[39m\n\u001b[1;32m    182\u001b[0m         \u001b[38;5;124m\"\u001b[39m\u001b[38;5;124mX.shape[1] == \u001b[39m\u001b[38;5;132;01m%d\u001b[39;00m\u001b[38;5;124m while Y.shape[1] == \u001b[39m\u001b[38;5;132;01m%d\u001b[39;00m\u001b[38;5;124m\"\u001b[39m \u001b[38;5;241m%\u001b[39m (X\u001b[38;5;241m.\u001b[39mshape[\u001b[38;5;241m1\u001b[39m], Y\u001b[38;5;241m.\u001b[39mshape[\u001b[38;5;241m1\u001b[39m])\n\u001b[1;32m    183\u001b[0m     )\n\u001b[1;32m    185\u001b[0m \u001b[38;5;28;01mreturn\u001b[39;00m X, Y\n",
      "\u001b[0;31mValueError\u001b[0m: Incompatible dimension for X and Y matrices: X.shape[1] == 6650 while Y.shape[1] == 61"
     ]
    }
   ],
   "source": [
    "linear_kernel(X,X_q)"
   ]
  },
  {
   "cell_type": "code",
   "execution_count": null,
   "id": "d7da5449-c8c4-4673-bf83-6aa2f0e610de",
   "metadata": {},
   "outputs": [],
   "source": []
  }
 ],
 "metadata": {
  "kernelspec": {
   "display_name": "anaconda-panel-2023.05-py310",
   "language": "python",
   "name": "conda-env-anaconda-panel-2023.05-py310-py"
  },
  "language_info": {
   "codemirror_mode": {
    "name": "ipython",
    "version": 3
   },
   "file_extension": ".py",
   "mimetype": "text/x-python",
   "name": "python",
   "nbconvert_exporter": "python",
   "pygments_lexer": "ipython3",
   "version": "3.11.4"
  }
 },
 "nbformat": 4,
 "nbformat_minor": 5
}
